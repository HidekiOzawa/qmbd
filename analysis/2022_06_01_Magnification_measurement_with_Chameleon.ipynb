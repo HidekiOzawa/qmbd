{
 "cells": [
  {
   "cell_type": "code",
   "execution_count": 64,
   "metadata": {},
   "outputs": [],
   "source": [
    "from pathlib import Path\n",
    "from PIL import Image\n",
    "import numpy as np\n",
    "import matplotlib.pyplot as plt\n",
    "import pandas as pd\n",
    "from scipy import optimize\n",
    "import scipy.optimize\n",
    "from scipy.optimize import minimize\n",
    "#from scipy.ndimage import gaussian_filter1d\n",
    "import sys"
   ]
  },
  {
   "cell_type": "code",
   "execution_count": 65,
   "metadata": {},
   "outputs": [],
   "source": [
    "date = '20220601'\n",
    "dataNo = 2\n",
    "scanNo = 12"
   ]
  },
  {
   "cell_type": "code",
   "execution_count": 66,
   "metadata": {},
   "outputs": [],
   "source": [
    "path = r\"./\"+date\n",
    "path_img = path + r\"/data\" + str('%03d' % dataNo) + \"/raw\"\n",
    "path_scan = path + r\"/scandir/Scan\" + str('%03d' % scanNo) + '.txt'\n",
    "path_param = path + r\"/scandir/Parameters\" + str('%03d' % scanNo) + '.txt'\n",
    "scan_data = pd.read_csv(path_scan, delimiter='\\t')"
   ]
  },
  {
   "cell_type": "code",
   "execution_count": 67,
   "metadata": {},
   "outputs": [],
   "source": [
    "param_name = 'T0008: TOF time (msec.)'\n",
    "fit_result_name_list = ['Center position (y) @ ROI1 (px)', 'Center position (x) @ ROI1 (px)']\n",
    "scan_param = scan_data[param_name]\n",
    "fit_result = scan_data[fit_result_name_list]\n",
    "unique_param = scan_param.unique()\n",
    "sample1 = unique_param[1]\n",
    "sample2 = unique_param[3]\n",
    "sample3 = unique_param[5]\n",
    "unit = '[ms]'"
   ]
  },
  {
   "cell_type": "code",
   "execution_count": 68,
   "metadata": {},
   "outputs": [],
   "source": [
    "share = Path(path_img)\n",
    "if share.exists():\n",
    "    trans_files = list(Path(path_img).glob('seq*_trans.tiff'))\n",
    "    flat_files = list(Path(path_img).glob('seq*_flat.tiff'))\n",
    "    update_files = list(Path(path_img).glob('seq*_update.tiff'))\n",
    "else:\n",
    "    print(\"No image\")"
   ]
  },
  {
   "cell_type": "code",
   "execution_count": 69,
   "metadata": {},
   "outputs": [],
   "source": [
    "x_center_list = []\n",
    "y_center_list = []\n",
    "x_center_err_list = []\n",
    "y_center_err_list = []\n",
    "for i in range(len(unique_param)):\n",
    "    x_center_temp = []\n",
    "    y_center_temp = []\n",
    "    for j in range(len(trans_files)):\n",
    "        if scan_param[j] == unique_param[i]:\n",
    "            y_center_temp.append(fit_result[fit_result_name_list[0]][j])\n",
    "            x_center_temp.append(fit_result[fit_result_name_list[1]][j])\n",
    "    y_center_list.append(np.mean(y_center_temp))\n",
    "    y_center_err_list.append(np.std(y_center_temp))\n",
    "    x_center_list.append(np.mean(x_center_temp))\n",
    "    x_center_err_list.append(np.std(x_center_temp))"
   ]
  },
  {
   "cell_type": "code",
   "execution_count": 79,
   "metadata": {},
   "outputs": [
    {
     "name": "stdout",
     "output_type": "stream",
     "text": [
      "fitParameter_0=-0.3176260319097511(0.0025446579431736595)\n",
      "fitParameter_1=137.72100208057955(0.05531947581811752)\n"
     ]
    },
    {
     "data": {
      "text/plain": [
       "<matplotlib.legend.Legend at 0x17a306d8af0>"
      ]
     },
     "execution_count": 79,
     "metadata": {},
     "output_type": "execute_result"
    },
    {
     "data": {
      "image/png": "[encoded data removed]",
      "text/plain": [
       "<Figure size 432x288 with 1 Axes>"
      ]
     },
     "metadata": {
      "needs_background": "light"
     },
     "output_type": "display_data"
    }
   ],
   "source": [
    "x_list = unique_param\n",
    "nx = y_center_list\n",
    "\n",
    "\n",
    "def quadratic_fucntion(x,*fit_param):\n",
    "    return fit_param[0]*x**2+fit_param[1]\n",
    "\n",
    "def fit_result(fit_func, x_data_list, y_data_list, initial_param_list, yerr=None):\n",
    "    if (yerr is None):\n",
    "        param, cov = scipy.optimize.curve_fit(fit_func, x_data_list, y_data_list, p0 = initial_param_list)\n",
    "    else:\n",
    "        param, cov = scipy.optimize.curve_fit(fit_func, x_data_list, y_data_list, p0 = initial_param_list, sigma=yerr)\n",
    "    perr = np.sqrt(np.diag(cov))\n",
    "    x_fit_list = np.linspace(np.min(x_data_list),np.max(x_data_list))\n",
    "    y_fit_list = []\n",
    "    for num in x_fit_list:\n",
    "        y_fit_list.append(fit_func(num, *param))\n",
    "    return param, perr, x_fit_list, y_fit_list\n",
    "\n",
    "para_ini =[-1, np.mean(nx)]\n",
    "fitResultsOfSampleImage_list = fit_result(quadratic_fucntion, x_list, nx, para_ini, y_center_err_list)\n",
    "\n",
    "for i in range(len(para_ini)):\n",
    "    print(\"fitParameter_\"+str(i)+\"=\"+str(fitResultsOfSampleImage_list[0][i])+\"(\"+str(fitResultsOfSampleImage_list[1][i])+\")\")\n",
    "\n",
    "plt.scatter(x_list,nx, label='Data',c=\"r\")\n",
    "plt.plot(fitResultsOfSampleImage_list[2],fitResultsOfSampleImage_list[3],label=\"fit\")\n",
    "plt.legend()"
   ]
  },
  {
   "cell_type": "code",
   "execution_count": 80,
   "metadata": {},
   "outputs": [
    {
     "data": {
      "image/png": "[encoded data removed]",
      "text/plain": [
       "<Figure size 576x288 with 1 Axes>"
      ]
     },
     "metadata": {
      "needs_background": "light"
     },
     "output_type": "display_data"
    }
   ],
   "source": [
    "fig =plt.figure(figsize=[8,4])\n",
    "ax1 = fig.add_subplot(1,2,1)\n",
    "ax1.set_xlabel(param_name)\n",
    "ax1.set_ylabel('Y center [pixel]')\n",
    "ax1.errorbar(unique_param,y_center_list, y_center_err_list,fmt='o',label ='data')\n",
    "ax1.plot(fitResultsOfSampleImage_list[2],fitResultsOfSampleImage_list[3],label=\"fit\")\n",
    "ax1.legend()\n",
    "# ax1.set_ylim(20, 100)\n",
    "\n",
    "plt.tight_layout()\n",
    "plt.show()"
   ]
  },
  {
   "cell_type": "code",
   "execution_count": 87,
   "metadata": {},
   "outputs": [
    {
     "name": "stdout",
     "output_type": "stream",
     "text": [
      "Magnification = 0.894\n",
      "X center with TOF 0 = 167.8 (0.1) [px]\n",
      "Y center with TOF 0 = 137.8 (0.1) [px]\n"
     ]
    }
   ],
   "source": [
    "coeff = np.abs(fitResultsOfSampleImage_list[0][0])\n",
    "CCD_pixel_size = 3.45 #[um]\n",
    "binning = 4\n",
    "gravity = 9.8065 #[m/s^2]\n",
    "\n",
    "magnification =coeff*CCD_pixel_size*binning /(1/2*gravity)\n",
    "print(\"Magnification = %.03f\"%(magnification))\n",
    "print(\"X center with TOF 0 = %.01f (%.01f) [px]\"%(x_center_list[0], x_center_err_list[0]))\n",
    "print(\"Y center with TOF 0 = %.01f (%.01f) [px]\"%(y_center_list[0], y_center_err_list[0]))"
   ]
  }
 ],
 "metadata": {
  "interpreter": {
   "hash": "ff379a590ecc9ee02c6283b951e270048e2bea3c3c94602fc43ab0b9c81c9a98"
  },
  "kernelspec": {
   "display_name": "Python 3.8.5 ('qgm1': conda)",
   "language": "python",
   "name": "python3"
  },
  "language_info": {
   "codemirror_mode": {
    "name": "ipython",
    "version": 3
   },
   "file_extension": ".py",
   "mimetype": "text/x-python",
   "name": "python",
   "nbconvert_exporter": "python",
   "pygments_lexer": "ipython3",
   "version": "3.8.5"
  },
  "orig_nbformat": 4
 },
 "nbformat": 4,
 "nbformat_minor": 2
}
