{
 "cells": [
  {
   "cell_type": "markdown",
   "metadata": {},
   "source": [
    "The freqeuncy modulation signals are expressed as  \n",
    "    $ \\delta \\nu_{2,3} = \\pm \\nu_x {\\rm sin} (\\Omega t)  + \\nu_x {\\rm cos}(\\Omega t)$  \n",
    "For convenience, we transform them to  \n",
    "    $\\delta \\nu_2 = \\sqrt{\\nu_x^2 + \\nu_y^2} {\\rm sin}(\\Omega t + \\alpha)$  \n",
    "    $\\delta \\nu_3 = \\sqrt{\\nu_x^2 + \\nu_y^2} {\\rm sin}(\\Omega t + \\pi - \\alpha)$  \n",
    "where $ {\\rm sin}(\\alpha) = \\nu_y / \\sqrt{\\nu_x^2 + \\nu_y^2}$\n",
    "\n",
    "### Circular modulation\n",
    "$\\nu_x / \\nu_y = 1/\\sqrt{3} \\leftrightarrow \\alpha = \\pi /3$  \n",
    "$\\delta \\nu_2 = 2 \\nu_x {\\rm sin}(\\Omega t + \\pi /3)$  \n",
    "$\\delta \\nu_3 = 2 \\nu_x {\\rm sin}(\\Omega t + 2 \\pi /3)$  \n",
    "\n",
    "1. Phase difference between $\\delta \\nu_2$ and $\\delta \\nu_3$ fixs proportion of forcing amplitudes $K, K'$.\n",
    "2. On the other hand, the final phase determines micromotion.\n",
    "    Lattice shaking ramp up time : $t_r$  \n",
    "    Lattice shaking hold time : $t_h$  \n",
    "    Trigger delay time : $t_{trigger}$\n",
    "    Burst delay time : $t_{burst}$\n",
    "    Total modulation time $t_{total} = t_r + t_h + t_{trigger} - t_{burst}$\n",
    "\n",
    "For practial use, the frequency modulation signals can be written as  \n",
    "$\\delta \\nu_2 = 2 \\nu_x {\\rm sin}(\\Omega t_{total} + \\phi_m)$  \n",
    "$\\delta \\nu_3 = 2 \\nu_x {\\rm sin}(\\Omega t_{total} + \\pi /3 + \\phi_m)$  \n"
   ]
  },
  {
   "cell_type": "markdown",
   "metadata": {},
   "source": [
    "## Load modules"
   ]
  },
  {
   "cell_type": "code",
   "execution_count": 2,
   "metadata": {},
   "outputs": [],
   "source": [
    "from pathlib import Path\n",
    "from PIL import Image\n",
    "import numpy as np\n",
    "import matplotlib.pyplot as plt\n",
    "import pandas as pd\n",
    "from scipy import optimize\n",
    "#from scipy.ndimage import gaussian_filter1d\n",
    "import sys\n",
    "import matplotlib.animation as animation"
   ]
  },
  {
   "cell_type": "markdown",
   "metadata": {},
   "source": [
    "## Parameters"
   ]
  },
  {
   "cell_type": "code",
   "execution_count": 3,
   "metadata": {},
   "outputs": [],
   "source": [
    "date = '20211130'\n",
    "dataNo = 4\n",
    "scanNo = 4"
   ]
  },
  {
   "cell_type": "markdown",
   "metadata": {},
   "source": [
    "## Data Preparation"
   ]
  },
  {
   "cell_type": "code",
   "execution_count": 4,
   "metadata": {},
   "outputs": [],
   "source": [
    "path = r\"./\"+date\n",
    "path_img = path + r\"/data\" + str('%03d' % dataNo) + \"/raw\"\n",
    "path_scan = path + r\"/scandir/Scan\" + str('%03d' % scanNo) + '.txt'\n",
    "path_param = path + r\"/scandir/Parameters\" + str('%03d' % scanNo) + '.txt'\n",
    "scan_data = pd.read_csv(path_scan, delimiter='\\t')"
   ]
  },
  {
   "cell_type": "code",
   "execution_count": 5,
   "metadata": {},
   "outputs": [],
   "source": [
    "scan_param = scan_data['A0139: LS Phase 1']"
   ]
  },
  {
   "cell_type": "code",
   "execution_count": 6,
   "metadata": {},
   "outputs": [],
   "source": [
    "share = Path(path_img)\n",
    "if share.exists():\n",
    "    trans_files = list(Path(path_img).glob('seq*_trans001.tiff'))\n",
    "    flat_files = list(Path(path_img).glob('seq*_flat001.tiff'))\n",
    "    update_files = list(Path(path_img).glob('seq*_update001.tiff'))\n",
    "else:\n",
    "    print(No)\n",
    "\n",
    "img_flat_ave =[]\n",
    "img_trans_list = []\n",
    "for N in range(len(trans_files)):\n",
    "    img_flat_ave += [np.array(Image.open(flat_files[N]))]\n",
    "img_flat_ave = np.average(img_flat_ave,axis=0)\n",
    "for N in range(len(trans_files)):\n",
    "    img_trans_list += [np.array(Image.open(trans_files[N])) - img_flat_ave]"
   ]
  },
  {
   "cell_type": "markdown",
   "metadata": {},
   "source": [
    "## Calculate Center of Mass"
   ]
  },
  {
   "cell_type": "code",
   "execution_count": 7,
   "metadata": {},
   "outputs": [],
   "source": [
    "CoMx_list=[]\n",
    "CoMy_list=[]\n",
    "for N in range(len(trans_files)):\n",
    "    CoMy = []\n",
    "    CoMx = []\n",
    "    nx=np.sum(img_trans_list[N], axis=0)/np.sum(img_trans_list[N])\n",
    "    ny=np.sum(img_trans_list[N], axis=1)/np.sum(img_trans_list[N])\n",
    "    for i in range(len(nx)):\n",
    "        CoMx += [i*nx[i]]\n",
    "    for i in range(len(ny)):\n",
    "        CoMy += [i*ny[i]]\n",
    "    CoMx_list.append(np.sum(CoMx))\n",
    "    CoMy_list.append(np.sum(CoMy))"
   ]
  },
  {
   "cell_type": "markdown",
   "metadata": {},
   "source": [
    "## Average Data"
   ]
  },
  {
   "cell_type": "code",
   "execution_count": 8,
   "metadata": {},
   "outputs": [],
   "source": [
    "unique_param = scan_param.unique()\n",
    "centerx_list = []\n",
    "centery_list = []\n",
    "centerx_err_list = []\n",
    "centery_err_list = []\n",
    "\n",
    "for i in range(len(unique_param)):\n",
    "    # print(unique_param[i])\n",
    "    centerx_temp = []\n",
    "    centery_temp = []\n",
    "    for j in range(len(trans_files)):\n",
    "        if scan_param[j] == unique_param[i]:\n",
    "            # print(np.sum(img_trans_list[j][y0:y1,x0:x1])/np.sum(img_trans_list[j]))\n",
    "            centerx_temp.append(CoMx_list[j])\n",
    "            centery_temp.append(CoMy_list[j])\n",
    "    centerx_list.append(np.mean(centerx_temp))\n",
    "    centery_list.append(np.mean(centery_temp))\n",
    "    centerx_err_list.append(np.std(centerx_temp))\n",
    "    centery_err_list.append(np.std(centery_temp))\n"
   ]
  },
  {
   "cell_type": "markdown",
   "metadata": {},
   "source": [
    "## Plot Figures"
   ]
  },
  {
   "cell_type": "code",
   "execution_count": 22,
   "metadata": {},
   "outputs": [
    {
     "data": {
      "text/plain": [
       "(-12.0, 12.0)"
      ]
     },
     "execution_count": 22,
     "metadata": {},
     "output_type": "execute_result"
    },
    {
     "data": {
      "image/png": "[encoded data removed]",
      "text/plain": [
       "<Figure size 1080x288 with 3 Axes>"
      ]
     },
     "metadata": {
      "needs_background": "light"
     },
     "output_type": "display_data"
    }
   ],
   "source": [
    "y_mean = np.mean(CoMy_list)\n",
    "x_mean = np.mean(CoMx_list)\n",
    "fig =plt.figure(figsize=[15,4])\n",
    "fig.tight_layout()\n",
    "ax1 = fig.add_subplot(1,3,1)\n",
    "# ax1.scatter(CoMx_list-x_mean,CoMy_list-y_mean)\n",
    "ax1.errorbar(centerx_list-x_mean, centery_list-y_mean,xerr=centerx_err_list,yerr=centery_err_list,fmt='o')\n",
    "ax1.set_xlabel(\"Center of mass X [pixel]\")\n",
    "ax1.set_ylabel(\"Center of mass Y [pixel]\")\n",
    "ax1.set_xlim(-12,12)\n",
    "ax1.set_ylim(-12,12)\n",
    "ax1.set_aspect('equal')\n",
    "\n",
    "ax2 = fig.add_subplot(1,3,2)\n",
    "# ax2.scatter(scan_param,CoMx_list-x_mean)\n",
    "ax2.errorbar(unique_param,centerx_list-x_mean, yerr=centerx_err_list, fmt='o')\n",
    "ax2.set_xlabel(\"Phase [degree]\")\n",
    "ax2.set_ylabel(\"Center of mass X [pixel]\")\n",
    "ax2.set_xlim(-180,180)\n",
    "ax2.set_ylim(-12,12)\n",
    "# ax2.set_aspect('equal')\n",
    "\n",
    "ax3 = fig.add_subplot(1,3,3)\n",
    "# ax3.scatter(scan_param,CoMy_list-y_mean)\n",
    "ax3.errorbar(unique_param,centery_list-y_mean, yerr=centery_err_list, fmt='o')\n",
    "ax3.set_xlabel(\"Phase [degree]\")\n",
    "ax3.set_ylabel(\"Center of mass Y [pixel]\")\n",
    "ax3.set_xlim(-180,180)\n",
    "ax3.set_ylim(-12,12)\n",
    "# ax3.set_aspect('equal')"
   ]
  },
  {
   "cell_type": "code",
   "execution_count": null,
   "metadata": {},
   "outputs": [],
   "source": []
  }
 ],
 "metadata": {
  "interpreter": {
   "hash": "26587463c8326ec6cefb5648cf6d07452a751139ce6112f17d93ae6c8dadc24a"
  },
  "kernelspec": {
   "display_name": "Python 3.8.5 64-bit ('base': conda)",
   "language": "python",
   "name": "python3"
  },
  "language_info": {
   "codemirror_mode": {
    "name": "ipython",
    "version": 3
   },
   "file_extension": ".py",
   "mimetype": "text/x-python",
   "name": "python",
   "nbconvert_exporter": "python",
   "pygments_lexer": "ipython3",
   "version": "3.8.5"
  },
  "orig_nbformat": 4
 },
 "nbformat": 4,
 "nbformat_minor": 2
}
