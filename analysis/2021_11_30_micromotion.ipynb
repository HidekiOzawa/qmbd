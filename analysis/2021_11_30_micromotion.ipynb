{
 "cells": [
  {
   "cell_type": "code",
   "execution_count": 22,
   "metadata": {},
   "outputs": [],
   "source": [
    "from pathlib import Path\n",
    "from PIL import Image\n",
    "import numpy as np\n",
    "import matplotlib.pyplot as plt\n",
    "import pandas as pd\n",
    "from scipy import optimize\n",
    "#from scipy.ndimage import gaussian_filter1d\n",
    "import sys\n",
    "import matplotlib.animation as animation"
   ]
  },
  {
   "cell_type": "code",
   "execution_count": 23,
   "metadata": {},
   "outputs": [],
   "source": [
    "date = '20211130'\n",
    "dataNo = 4\n",
    "scanNo = 4"
   ]
  },
  {
   "cell_type": "code",
   "execution_count": 24,
   "metadata": {},
   "outputs": [],
   "source": [
    "path = r\"./\"+date\n",
    "path_img = path + r\"/data\" + str('%03d' % dataNo) + \"/raw\"\n",
    "path_scan = path + r\"/scandir/Scan\" + str('%03d' % scanNo) + '.txt'\n",
    "path_param = path + r\"/scandir/Parameters\" + str('%03d' % scanNo) + '.txt'\n",
    "scan_data = pd.read_csv(path_scan, delimiter='\\t')"
   ]
  },
  {
   "cell_type": "code",
   "execution_count": 25,
   "metadata": {},
   "outputs": [],
   "source": [
    "scan_param = scan_data['A0139: LS Phase 1']"
   ]
  },
  {
   "cell_type": "code",
   "execution_count": 26,
   "metadata": {},
   "outputs": [],
   "source": [
    "share = Path(path_img)\n",
    "if share.exists():\n",
    "    trans_files = list(Path(path_img).glob('seq*_trans001.tiff'))\n",
    "    flat_files = list(Path(path_img).glob('seq*_flat001.tiff'))\n",
    "    update_files = list(Path(path_img).glob('seq*_update001.tiff'))\n",
    "else:\n",
    "    print(No)\n",
    "\n",
    "img_flat_ave =[]\n",
    "img_trans_list = []\n",
    "for N in range(len(trans_files)):\n",
    "    img_flat_ave += [np.array(Image.open(flat_files[N]))]\n",
    "img_flat_ave = np.average(img_flat_ave,axis=0)\n",
    "for N in range(len(trans_files)):\n",
    "    img_trans_list += [np.array(Image.open(trans_files[N])) - img_flat_ave]"
   ]
  },
  {
   "cell_type": "code",
   "execution_count": 27,
   "metadata": {},
   "outputs": [],
   "source": [
    "CoMx_list=[]\n",
    "CoMy_list=[]\n",
    "for N in range(len(trans_files)):\n",
    "    CoMy = []\n",
    "    CoMx = []\n",
    "    nx=np.sum(img_trans_list[N], axis=0)/np.sum(img_trans_list[N])\n",
    "    ny=np.sum(img_trans_list[N], axis=1)/np.sum(img_trans_list[N])\n",
    "    for i in range(len(nx)):\n",
    "        CoMx += [i*nx[i]]\n",
    "    for i in range(len(ny)):\n",
    "        CoMy += [i*ny[i]]\n",
    "    CoMx_list.append(np.sum(CoMx))\n",
    "    CoMy_list.append(np.sum(CoMy))"
   ]
  },
  {
   "cell_type": "code",
   "execution_count": 41,
   "metadata": {},
   "outputs": [
    {
     "data": {
      "text/plain": [
       "(-15.0, 15.0)"
      ]
     },
     "execution_count": 41,
     "metadata": {},
     "output_type": "execute_result"
    },
    {
     "data": {
      "image/png": "[encoded data removed]",
      "text/plain": [
       "<Figure size 1080x360 with 3 Axes>"
      ]
     },
     "metadata": {
      "needs_background": "light"
     },
     "output_type": "display_data"
    }
   ],
   "source": [
    "y_mean = np.mean(CoMy_list)\n",
    "x_mean = np.mean(CoMx_list)\n",
    "fig =plt.figure(figsize=[15,5])\n",
    "ax1 = fig.add_subplot(1,3,1)\n",
    "ax1.scatter(CoMx_list-x_mean,CoMy_list-y_mean)\n",
    "ax1.set_xlabel(\"Center of mass X [pixel]\")\n",
    "ax1.set_ylabel(\"Center of mass Y [pixel]\")\n",
    "ax1.set_xlim(-15,15)\n",
    "ax1.set_ylim(-15,15)\n",
    "ax1.set_aspect('equal')\n",
    "\n",
    "ax2 = fig.add_subplot(1,3,2)\n",
    "ax2.scatter(scan_param,CoMx_list-x_mean)\n",
    "ax2.set_xlabel(\"Phase [degree]\")\n",
    "ax2.set_ylabel(\"Center of mass Y [pixel]\")\n",
    "ax2.set_xlim(-180,180)\n",
    "ax2.set_ylim(-15,15)\n",
    "# ax2.set_aspect('equal')\n",
    "\n",
    "ax3 = fig.add_subplot(1,3,3)\n",
    "ax3.scatter(scan_param,CoMy_list-y_mean)\n",
    "ax3.set_xlabel(\"Phase [degree]]\")\n",
    "ax3.set_ylabel(\"Center of mass Y [pixel]\")\n",
    "ax3.set_xlim(-180,180)\n",
    "ax3.set_ylim(-15,15)\n",
    "# ax3.set_aspect('equal')"
   ]
  },
  {
   "cell_type": "code",
   "execution_count": 33,
   "metadata": {},
   "outputs": [],
   "source": [
    "unique_list = scan_param.unique()\n",
    "for i in range(len(unique)):\n",
    "    for N in range(len(trans_files)):\n",
    "        "
   ]
  },
  {
   "cell_type": "code",
   "execution_count": null,
   "metadata": {},
   "outputs": [],
   "source": []
  }
 ],
 "metadata": {
  "interpreter": {
   "hash": "26587463c8326ec6cefb5648cf6d07452a751139ce6112f17d93ae6c8dadc24a"
  },
  "kernelspec": {
   "display_name": "Python 3.8.5 64-bit ('base': conda)",
   "language": "python",
   "name": "python3"
  },
  "language_info": {
   "codemirror_mode": {
    "name": "ipython",
    "version": 3
   },
   "file_extension": ".py",
   "mimetype": "text/x-python",
   "name": "python",
   "nbconvert_exporter": "python",
   "pygments_lexer": "ipython3",
   "version": "3.8.5"
  },
  "orig_nbformat": 4
 },
 "nbformat": 4,
 "nbformat_minor": 2
}
