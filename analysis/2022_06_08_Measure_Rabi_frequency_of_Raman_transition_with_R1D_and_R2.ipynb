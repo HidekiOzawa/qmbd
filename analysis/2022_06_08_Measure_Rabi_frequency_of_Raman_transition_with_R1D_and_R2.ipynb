{
 "cells": [
  {
   "cell_type": "markdown",
   "metadata": {},
   "source": [
    "# Rabi frequency measurement by Landau-Zener formula"
   ]
  },
  {
   "cell_type": "markdown",
   "metadata": {},
   "source": [
    "Analytic form of transition probability under (linear) frequency sweep:\n",
    "\\begin{equation}\n",
    "p_e = 1 - \\rm{exp}\\left(-\\frac{\\pi \\Omega_{\\rm{rabi}}^2 t}{2 \\Delta} \\right),\n",
    "\\end{equation}\n",
    "where $\\Omega_{\\rm rabi} [{\\rm{rad} \\cdot s^{-1}}]$ is the Rabi frequency at resonance, $\\Delta [\\rm{rad} \\cdot s^{-1}]$ the frequency sweep range, $t$ the time for linear frequency sweep, respectively.\n",
    "Using this formula, we can estimate $\\Omega_{\\rm rabi}$ even with fluctuation of the B-field."
   ]
  },
  {
   "cell_type": "code",
   "execution_count": 34,
   "metadata": {},
   "outputs": [],
   "source": [
    "from pathlib import Path\n",
    "from PIL import Image\n",
    "import numpy as np\n",
    "import matplotlib.pyplot as plt\n",
    "import pandas as pd\n",
    "from scipy import optimize\n",
    "import scipy.optimize\n",
    "from scipy.optimize import minimize\n",
    "#from scipy.ndimage import gaussian_filter1d\n",
    "import sys"
   ]
  },
  {
   "cell_type": "code",
   "execution_count": 35,
   "metadata": {},
   "outputs": [],
   "source": [
    "date = '20220608'\n",
    "# dataNo = 2\n",
    "scanNo = 4"
   ]
  },
  {
   "cell_type": "code",
   "execution_count": 36,
   "metadata": {},
   "outputs": [],
   "source": [
    "path = r\"./\"+date\n",
    "# path_img = path + r\"/data\" + str('%03d' % dataNo) + \"/raw\"\n",
    "path_scan = path + r\"/scandir/Scan\" + str('%03d' % scanNo) + '.txt'\n",
    "path_param = path + r\"/scandir/Parameters\" + str('%03d' % scanNo) + '.txt'\n",
    "scan_data = pd.read_csv(path_scan, delimiter='\\t')"
   ]
  },
  {
   "cell_type": "code",
   "execution_count": 37,
   "metadata": {},
   "outputs": [],
   "source": [
    "param_name = 'T0037: Raman pulse time (usec.)'\n",
    "fit_result_name_list = ['Total count @ ROI1 (arb. u.)']\n",
    "scan_param = scan_data[param_name]\n",
    "fit_result = scan_data[fit_result_name_list]\n",
    "unique_param = scan_param.unique()\n",
    "sample1 = unique_param[1]\n",
    "sample2 = unique_param[3]\n",
    "sample3 = unique_param[5]\n",
    "unit = '[us]'"
   ]
  },
  {
   "cell_type": "code",
   "execution_count": 38,
   "metadata": {},
   "outputs": [],
   "source": [
    "FL_count_list = []\n",
    "FL_count_err_list = []\n",
    "\n",
    "for i in range(len(unique_param)):\n",
    "    FL_count_temp = []\n",
    "    for j in range(len(scan_param)):\n",
    "        if scan_param[j] == unique_param[i]:\n",
    "            FL_count_temp.append(fit_result[fit_result_name_list[0]][j])\n",
    "    FL_count_list.append(np.mean(FL_count_temp))\n",
    "    FL_count_err_list.append(np.std(FL_count_temp))"
   ]
  },
  {
   "cell_type": "code",
   "execution_count": 39,
   "metadata": {},
   "outputs": [
    {
     "name": "stdout",
     "output_type": "stream",
     "text": [
      "fitParameter_0=52.9585006548964(3.564821636720419)\n",
      "fitParameter_1=20.054462821427485(1.4919501715373236)\n",
      "fitParameter_2=3.8430319446862637(1.4957148365782937)\n"
     ]
    },
    {
     "data": {
      "text/plain": [
       "<matplotlib.legend.Legend at 0x1d1cbcaf070>"
      ]
     },
     "execution_count": 39,
     "metadata": {},
     "output_type": "execute_result"
    },
    {
     "data": {
      "image/png": "[encoded data removed]",
      "text/plain": [
       "<Figure size 432x288 with 1 Axes>"
      ]
     },
     "metadata": {
      "needs_background": "light"
     },
     "output_type": "display_data"
    }
   ],
   "source": [
    "x_list = np.array(unique_param)*1e-3\n",
    "nx = np.array(FL_count_list)*1e-6\n",
    "nx_err = np.array(FL_count_err_list)*1e-6\n",
    "\n",
    "sweepRange = 23.1*20 #[kHz]\n",
    "\n",
    "def Landau_Zener_formula(x,*fit_param):\n",
    "    return fit_param[1]*(1-np.exp(-np.pi**2*fit_param[0]**2*x/sweepRange))+fit_param[2]\n",
    "\n",
    "\n",
    "def fit_result(fit_func, x_data_list, y_data_list, initial_param_list, yerr=None):\n",
    "    if (yerr is None):\n",
    "        param, cov = scipy.optimize.curve_fit(fit_func, x_data_list, y_data_list, p0 = initial_param_list)\n",
    "    else:\n",
    "        param, cov = scipy.optimize.curve_fit(fit_func, x_data_list, y_data_list, p0 = initial_param_list, sigma=yerr)\n",
    "    perr = np.sqrt(np.diag(cov))\n",
    "    x_fit_list = np.linspace(np.min(x_data_list),np.max(x_data_list))\n",
    "    y_fit_list = []\n",
    "    for num in x_fit_list:\n",
    "        y_fit_list.append(fit_func(num, *param))\n",
    "    return param, perr, x_fit_list, y_fit_list\n",
    "\n",
    "para_ini =[60, np.mean(nx),np.min(nx)]\n",
    "fitResultsOfSampleImage_list = fit_result(Landau_Zener_formula, x_list, nx, para_ini)\n",
    "\n",
    "for i in range(len(para_ini)):\n",
    "    print(\"fitParameter_\"+str(i)+\"=\"+str(fitResultsOfSampleImage_list[0][i])+\"(\"+str(fitResultsOfSampleImage_list[1][i])+\")\")\n",
    "\n",
    "plt.scatter(x_list,nx, label='Data',c=\"r\")\n",
    "plt.plot(fitResultsOfSampleImage_list[2],fitResultsOfSampleImage_list[3],label=\"fit\")\n",
    "plt.legend()"
   ]
  },
  {
   "cell_type": "code",
   "execution_count": 40,
   "metadata": {},
   "outputs": [
    {
     "data": {
      "text/plain": [
       "<matplotlib.legend.Legend at 0x1d1cc062c40>"
      ]
     },
     "execution_count": 40,
     "metadata": {},
     "output_type": "execute_result"
    },
    {
     "data": {
      "image/png": "[encoded data removed]",
      "text/plain": [
       "<Figure size 432x288 with 1 Axes>"
      ]
     },
     "metadata": {
      "needs_background": "light"
     },
     "output_type": "display_data"
    }
   ],
   "source": [
    "fig =plt.figure(figsize=[6,4])\n",
    "rabi_freq = r'$\\Omega_{\\rm rabi} = 2 \\pi \\times %.01f (%.01f)$'%(fitResultsOfSampleImage_list[0][0], fitResultsOfSampleImage_list[1][0])\n",
    "ax1 = fig.add_subplot(1,1,1)\n",
    "ax1.set_xlabel('Pulse time [ms]')\n",
    "ax1.set_ylabel('Normalized FL count [arb. u.]')\n",
    "ax1.errorbar(x_list,nx, nx_err,fmt='o',label ='data')\n",
    "ax1.plot(fitResultsOfSampleImage_list[2],fitResultsOfSampleImage_list[3],label=\"fit,\"+rabi_freq)\n",
    "ax1.legend()"
   ]
  },
  {
   "cell_type": "code",
   "execution_count": null,
   "metadata": {},
   "outputs": [],
   "source": []
  }
 ],
 "metadata": {
  "interpreter": {
   "hash": "94e2070c6db122e2e4dd84ccb8af5d8683a60389d3daf0d2591d10bc1f9c8808"
  },
  "kernelspec": {
   "display_name": "Python 3.8.5 ('qgm1': conda)",
   "language": "python",
   "name": "python3"
  },
  "language_info": {
   "codemirror_mode": {
    "name": "ipython",
    "version": 3
   },
   "file_extension": ".py",
   "mimetype": "text/x-python",
   "name": "python",
   "nbconvert_exporter": "python",
   "pygments_lexer": "ipython3",
   "version": "3.8.5"
  },
  "orig_nbformat": 4
 },
 "nbformat": 4,
 "nbformat_minor": 2
}
