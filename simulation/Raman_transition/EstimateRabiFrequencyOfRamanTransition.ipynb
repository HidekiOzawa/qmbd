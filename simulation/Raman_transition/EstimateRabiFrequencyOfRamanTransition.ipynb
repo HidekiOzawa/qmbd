{
 "cells": [
  {
   "cell_type": "markdown",
   "metadata": {},
   "source": [
    "# Estimate Rabi frequency of Raman transition"
   ]
  },
  {
   "cell_type": "markdown",
   "metadata": {},
   "source": [
    "Definition of Rabi frequency of Raman transition:\n",
    "\\begin{equation}\n",
    "\\Omega_{\\rm Rabi} = \\frac{\\left< J^{\\prime} || d || J \\right>^2}{2 \\delta \\hbar^2} E_1 E_2^{\\ast} \\left| G_{11} G_{22} \\right|\n",
    "\\end{equation}"
   ]
  },
  {
   "cell_type": "code",
   "execution_count": 128,
   "metadata": {},
   "outputs": [],
   "source": [
    "import numpy as np\n",
    "import matplotlib.pyplot as plt\n",
    "import pandas as pd\n",
    "import sympy\n",
    "sympy.init_printing()\n",
    "from IPython.display import Math\n",
    "from sympy.physics.wigner import wigner_3j\n",
    "from sympy.physics.wigner import wigner_6j"
   ]
  },
  {
   "cell_type": "markdown",
   "metadata": {},
   "source": [
    "## Constants"
   ]
  },
  {
   "cell_type": "code",
   "execution_count": 129,
   "metadata": {},
   "outputs": [],
   "source": [
    "c = 2.99792458*1e8         # [m/s] Speed of light\n",
    "epsilon_0 = 8.854187*1e-12 # [F/m] Permittivity of Vacuum\n",
    "hbar = 1.054571*1e-34      # [rad^-1 J s] Reduced Plank's constant\n",
    "jdj = 2.5377*1e-29         # [C m] Reduced dipole matrix element for D1 transition of 87Rb"
   ]
  },
  {
   "cell_type": "markdown",
   "metadata": {},
   "source": [
    "## Transition parameters"
   ]
  },
  {
   "cell_type": "markdown",
   "metadata": {},
   "source": [
    "### G11"
   ]
  },
  {
   "cell_type": "code",
   "execution_count": 130,
   "metadata": {},
   "outputs": [],
   "source": [
    "f = 2       # Total angular momentum for initial state\n",
    "fe = 2      # Total angular momentum for intermediate state\n",
    "mf = -2     # Magnetic sublevel for initial state\n",
    "mfe = -2    # Magnetic sublevel for intermediate state\n",
    "j = 1/2     # Angular momentum for initial state\n",
    "je = 1/2    # Angular momentum for intermediate state\n",
    "nuc = 3/2   # Nuclear spin for 87 Rb\n",
    "q = 0       # Polarization of light"
   ]
  },
  {
   "cell_type": "code",
   "execution_count": 131,
   "metadata": {},
   "outputs": [],
   "source": [
    "g11 = (-1)**(2*fe+j+nuc+mf)*np.sqrt((2*f+1)*(2*fe+1)*(2*j+1))*float(wigner_3j(fe,1,f,mfe,q,-mf)*wigner_6j(j,je,1,fe,f,nuc))"
   ]
  },
  {
   "cell_type": "markdown",
   "metadata": {},
   "source": [
    "### G22"
   ]
  },
  {
   "cell_type": "code",
   "execution_count": 132,
   "metadata": {},
   "outputs": [],
   "source": [
    "f = 1       # Total angular momentum for initial state\n",
    "fe = 2      # Total angular momentum for intermediate state\n",
    "mf = -1     # Magnetic sublevel for initial state\n",
    "mfe = -2    # Magnetic sublevel for intermediate state\n",
    "j = 1/2     # Angular momentum for initial state\n",
    "je = 1/2    # Angular momentum for intermediate state\n",
    "nuc = 3/2   # Nuclear spin for 87 Rb\n",
    "q = 1       # Polarization of light"
   ]
  },
  {
   "cell_type": "code",
   "execution_count": 133,
   "metadata": {},
   "outputs": [],
   "source": [
    "g22 = (-1)**(2*fe+j+nuc+mf)*np.sqrt((2*f+1)*(2*fe+1)*(2*j+1))*float(wigner_3j(fe,1,f,mfe,q,-mf)*wigner_6j(j,je,1,fe,f,nuc))"
   ]
  },
  {
   "cell_type": "markdown",
   "metadata": {},
   "source": [
    "## Raman beam parameters"
   ]
  },
  {
   "cell_type": "code",
   "execution_count": 134,
   "metadata": {},
   "outputs": [],
   "source": [
    "delta = 2*np.pi*105*1e9     # [rad s^-1] Detuning of Raman beams from the intermediate state\n",
    "wavelength = 795*1e-9       # [m] Wavelength of Raman beams"
   ]
  },
  {
   "cell_type": "markdown",
   "metadata": {},
   "source": [
    "### Raman 1 (D)"
   ]
  },
  {
   "cell_type": "code",
   "execution_count": 135,
   "metadata": {},
   "outputs": [],
   "source": [
    "powerR1D = 19.5/8*1e-3               # [W] Beam power\n",
    "w0R1D = 1.25*1e-3                   # [m] Beai waist @ fiber output\n",
    "zr = np.pi*w0R1D**2/wavelength      # [m] Raleigh length\n",
    "z = 1                               # [m] Distance from a spot\n",
    "wz = w0R1D*np.sqrt(1+z**2/zr**2)    # [m] Beam waist @ atoms\n",
    "intR1D = 2*powerR1D/(np.pi*wz**2)   # [W/m^2] Beam intensity"
   ]
  },
  {
   "cell_type": "code",
   "execution_count": 136,
   "metadata": {},
   "outputs": [],
   "source": [
    "electricFieldStrengthR1D = 1/np.sqrt(1)*np.sqrt(2*intR1D/(c*epsilon_0)) # [kg m A^-1 s^-3] Electric field strength"
   ]
  },
  {
   "cell_type": "markdown",
   "metadata": {},
   "source": [
    "### Raman 1 (H)"
   ]
  },
  {
   "cell_type": "code",
   "execution_count": 137,
   "metadata": {},
   "outputs": [],
   "source": [
    "powerR1H = 1.17/8*1e-3                   # [W] Beam power\n",
    "w0R1H = 0.4*1e-3                       # [m] Beai waist @ atoms\n",
    "intR1H = 2*powerR1H/(np.pi*w0R1H**2)    # [W/m^2] Beam intensity"
   ]
  },
  {
   "cell_type": "code",
   "execution_count": 138,
   "metadata": {},
   "outputs": [],
   "source": [
    "electricFieldStrengthR1H = 1/np.sqrt(2)*np.sqrt(2*intR1H/(c*epsilon_0)) # [kg m A^-1 s^-3] Electric field strength"
   ]
  },
  {
   "cell_type": "markdown",
   "metadata": {},
   "source": [
    "### Raman 2"
   ]
  },
  {
   "cell_type": "code",
   "execution_count": 139,
   "metadata": {},
   "outputs": [],
   "source": [
    "powerR2 = 13.6/8*1e-3                  # [W] Beam power\n",
    "w0R2 = 0.10*1e-3                     # [m] Beai waist @ atoms\n",
    "zr = np.pi*w0R2**2/wavelength        # [m] Raleigh length\n",
    "z = 0                                # [m] Distance from a spot\n",
    "wz = w0R2*np.sqrt(1+z**2/zr**2)      # [m] Beam waist @ atoms\n",
    "intR2 = 2*powerR2/(np.pi*wz**2)    # [W/m^2] Beam intensity\n",
    "# intR2 = 2*powerR2/(np.pi*w0R2**2)    # [W/m^2] Beam intensity"
   ]
  },
  {
   "cell_type": "code",
   "execution_count": 140,
   "metadata": {},
   "outputs": [],
   "source": [
    "electricFieldStrengthR2 = 1/np.sqrt(2)*np.sqrt(2*intR2/(c*epsilon_0))"
   ]
  },
  {
   "cell_type": "code",
   "execution_count": 142,
   "metadata": {},
   "outputs": [
    {
     "data": {
      "text/latex": [
       "$\\displaystyle \\Omega_{\\rm Rabi}^{R1D} = 2 \\pi \\times 15.5 (kHz)$"
      ],
      "text/plain": [
       "<IPython.core.display.Math object>"
      ]
     },
     "metadata": {},
     "output_type": "display_data"
    },
    {
     "data": {
      "text/latex": [
       "$\\displaystyle \\Omega_{\\rm Rabi}^{R1H} = 2 \\pi \\times 8.5 (kHz)$"
      ],
      "text/plain": [
       "<IPython.core.display.Math object>"
      ]
     },
     "metadata": {},
     "output_type": "display_data"
    }
   ],
   "source": [
    "rabiFrequencyR1D = 1/(2*np.pi)*jdj**2/(2*delta*hbar**2)*electricFieldStrengthR1D*electricFieldStrengthR2*np.abs(g11*g22)\n",
    "rabiFrequencyR1H = 1/(2*np.pi)*jdj**2/(2*delta*hbar**2)*electricFieldStrengthR1H*electricFieldStrengthR2*np.abs(g11*g22)\n",
    "\n",
    "display(Math(r'\\Omega_{\\rm Rabi}^{R1D} = 2 \\pi \\times %.01f (kHz)' % (rabiFrequencyR1D*1e-3)))\n",
    "display(Math(r'\\Omega_{\\rm Rabi}^{R1H} = 2 \\pi \\times %.01f (kHz)' % (rabiFrequencyR1H*1e-3)))\n"
   ]
  },
  {
   "cell_type": "code",
   "execution_count": null,
   "metadata": {},
   "outputs": [],
   "source": []
  }
 ],
 "metadata": {
  "interpreter": {
   "hash": "a132c3accd57008356950f57ae7e78d64ba73bb2a72d4f5236d7d461b6f173af"
  },
  "kernelspec": {
   "display_name": "Python 3.7.11 ('qgm6')",
   "language": "python",
   "name": "python3"
  },
  "language_info": {
   "codemirror_mode": {
    "name": "ipython",
    "version": 3
   },
   "file_extension": ".py",
   "mimetype": "text/x-python",
   "name": "python",
   "nbconvert_exporter": "python",
   "pygments_lexer": "ipython3",
   "version": "3.7.11"
  },
  "orig_nbformat": 4
 },
 "nbformat": 4,
 "nbformat_minor": 2
}
